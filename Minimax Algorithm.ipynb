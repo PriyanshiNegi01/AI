{
 "cells": [
  {
   "cell_type": "markdown",
   "id": "bda30320",
   "metadata": {},
   "source": [
    "# Experiment 08: Minimax Algorithm with Alpha-Beta Pruning\n",
    "\n",
    "## Aim:\n",
    "To implement a Python code for Minimax Algorithm.\n",
    "\n",
    "## Program:"
   ]
  },
  {
   "cell_type": "code",
   "execution_count": 2,
   "id": "07ed2737",
   "metadata": {},
   "outputs": [
    {
     "name": "stdout",
     "output_type": "stream",
     "text": [
      "Enter Value 0  : 1\n",
      "Enter Value 1  : 2\n",
      "Enter Value 2  : 3\n",
      "Enter Value 3  : 4\n",
      "Enter Value 4  : 5\n",
      "Enter Value 5  : 6\n",
      "Enter Value 6  : 7\n",
      "Enter Value 7  : 8\n",
      "The optimal value is : 6\n"
     ]
    }
   ],
   "source": [
    "MAX, MIN = 1000, -1000 \n",
    "def minimax(depth, nodeIndex, maximizingPlayer, \n",
    "            values, alpha, beta): \n",
    "\n",
    "    if depth == 3: \n",
    "        return values[nodeIndex] \n",
    "\n",
    "    if maximizingPlayer:\n",
    "        \n",
    "        best = MIN\n",
    "\n",
    "        for i in range(0, 2): \n",
    "\n",
    "            val = minimax(depth + 1, nodeIndex * 2 + i, \n",
    "                          False, values, alpha, beta) \n",
    "            best = max(best, val) \n",
    "            alpha = max(alpha, best) \n",
    "\n",
    "            if beta <= alpha: \n",
    "                break\n",
    "\n",
    "        return best \n",
    "\n",
    "    else: \n",
    "        best = MAX\n",
    "        for i in range(0, 2): \n",
    "\n",
    "            val = minimax(depth + 1, nodeIndex * 2 + i, \n",
    "                          True, values, alpha, beta) \n",
    "            best = min(best, val) \n",
    "            beta = min(beta, best) \n",
    "            if beta <= alpha: \n",
    "                break\n",
    "\n",
    "        return best \n",
    "\n",
    "if __name__ == \"__main__\": \n",
    "\n",
    "    values = []\n",
    "    for i in range(0, 8):\n",
    "\n",
    "        x = int(input(f\"Enter Value {i}  : \"))\n",
    "        values.append(x)\n",
    "\n",
    "    print (\"The optimal value is :\", minimax(0, 0, True, values, MIN, MAX)) "
   ]
  },
  {
   "cell_type": "markdown",
   "id": "13d4a051",
   "metadata": {},
   "source": [
    "## Algorithm:\n",
    "1. Initialize Constants:\n",
    "    - Set MAX to a large positive value (1000).\n",
    "    - Set MIN to a large negative value (-1000).\n",
    "2. Define the minimax Function:\n",
    "    1. Terminal Condition:\n",
    "        - If depth is equal to 3, return the value of the current node from the values array at index nodeIndex.\n",
    "    2. If the Current Player is Maximizing:\n",
    "        1. Initialize best to MIN.\n",
    "        2. Iterate over child nodes (0 and 1).\n",
    "            - Recursively call minimax for the child node with maximizingPlayer set to False.\n",
    "            - Update best to the maximum value between best and the returned value from the child node.\n",
    "            - Update alpha to the maximum value between alpha and best.\n",
    "            - If beta is less than or equal to alpha, prune the remaining branches by breaking the loop.\n",
    "        3. Return best.\n",
    "    3. If the Current Player is Minimizing:\n",
    "        1. Initialize best to MAX.\n",
    "        2. Iterate over child nodes (0 and 1).\n",
    "            - Recursively call minimax for the child node with maximizingPlayer set to True.\n",
    "            - Update best to the minimum value between best and the returned value from the child node.\n",
    "            - Update beta to the minimum value between beta and best.\n",
    "            - If beta is less than or equal to alpha, prune the remaining branches by breaking the loop.\n",
    "        3. Return best.\n",
    "\n",
    "3. Main Function:\n",
    "    - Initialize an empty list values.\n",
    "    - Iterate over 8 nodes to get values from the user and append them to the values list.\n",
    "    - Print the result of calling minimax function with initial parameters."
   ]
  },
  {
   "cell_type": "code",
   "execution_count": null,
   "id": "332078d3",
   "metadata": {},
   "outputs": [],
   "source": []
  }
 ],
 "metadata": {
  "kernelspec": {
   "display_name": "Python 3 (ipykernel)",
   "language": "python",
   "name": "python3"
  },
  "language_info": {
   "codemirror_mode": {
    "name": "ipython",
    "version": 3
   },
   "file_extension": ".py",
   "mimetype": "text/x-python",
   "name": "python",
   "nbconvert_exporter": "python",
   "pygments_lexer": "ipython3",
   "version": "3.9.13"
  }
 },
 "nbformat": 4,
 "nbformat_minor": 5
}
